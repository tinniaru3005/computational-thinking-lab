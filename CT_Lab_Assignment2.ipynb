{
 "cells": [
  {
   "cell_type": "markdown",
   "metadata": {},
   "source": [
    "## Problem A"
   ]
  },
  {
   "cell_type": "markdown",
   "metadata": {},
   "source": [
    "### Problem i. Reverse stack using recursion."
   ]
  },
  {
   "cell_type": "code",
   "execution_count": 5,
   "metadata": {
    "colab": {
     "base_uri": "https://localhost:8080/"
    },
    "id": "nStwlxNM2zZz",
    "outputId": "359d8e3c-2c3e-4591-9443-f2a25d4e3a21"
   },
   "outputs": [
    {
     "name": "stdout",
     "output_type": "stream",
     "text": [
      "2\n",
      "6\n",
      "11\n",
      "20\n",
      "22\n",
      "\n",
      "22\n",
      "20\n",
      "11\n",
      "6\n",
      "2\n",
      "\n"
     ]
    }
   ],
   "source": [
    "stack=[]\n",
    "\n",
    "\n",
    "def adddown(item):\n",
    "    if (len(stack) == 0):\n",
    "        stack.append(item)\n",
    "    else:\n",
    "        temp = pop()\n",
    "        adddown(item)\n",
    "        stack.append(temp)\n",
    "\n",
    "\n",
    "def reverse():\n",
    "    if (len(stack) != 0):\n",
    "        temp = pop()\n",
    "        reverse()\n",
    "        adddown(temp)\n",
    "\n",
    "def pop():\n",
    "    if(len(stack) == 0):\n",
    "        print(\"Stack Underflow \")\n",
    "        exit(1)\n",
    "    return stack.pop()\n",
    "\n",
    "def prints():\n",
    "    for i in range(len(stack)):\n",
    "        print(stack[i])\n",
    "    print()\n",
    "\n",
    "\n",
    "stack.append(2)\n",
    "stack.append(6)\n",
    "stack.append(11)\n",
    "stack.append(20)\n",
    "stack.append(22)\n",
    "prints()\n",
    "reverse()\n",
    "prints()\n",
    "\n"
   ]
  },
  {
   "cell_type": "markdown",
   "metadata": {},
   "source": [
    "### Problem ii. Sort stack using recursion."
   ]
  },
  {
   "cell_type": "code",
   "execution_count": 6,
   "metadata": {
    "colab": {
     "base_uri": "https://localhost:8080/"
    },
    "id": "AQQ2Fn0L9iZY",
    "outputId": "6741a8d2-5d7a-4dbe-d0f5-640980295210"
   },
   "outputs": [
    {
     "name": "stdout",
     "output_type": "stream",
     "text": [
      "-9 18 13 -19 20 \n",
      "20 18 13 -9 -19 \n"
     ]
    }
   ],
   "source": [
    "def sortedInsert(s, element):\n",
    "    if len(s) == 0 or element > s[-1]:\n",
    "        s.append(element)\n",
    "        return\n",
    "    else:\n",
    "        temp = s.pop()\n",
    "        sortedInsert(s, element)\n",
    "        s.append(temp)\n",
    "\n",
    "def sortStack(s):\n",
    "    if len(s) != 0:\n",
    "        temp = s.pop()\n",
    "        sortStack(s)\n",
    "        sortedInsert(s, temp)\n",
    "\n",
    "def printStack(s):\n",
    "    for i in s[::-1]:\n",
    "        print(i, end=\" \")\n",
    "    print()\n",
    "\n",
    "\n",
    "s = []\n",
    "s.append(20)\n",
    "s.append(-19)\n",
    "s.append(13)\n",
    "s.append(18)\n",
    "s.append(-9)\n",
    "\n",
    "printStack(s)\n",
    "sortStack(s)\n",
    "printStack(s)"
   ]
  },
  {
   "cell_type": "markdown",
   "metadata": {},
   "source": [
    "# Problem B"
   ]
  },
  {
   "cell_type": "markdown",
   "metadata": {},
   "source": [
    "### Implement singly-linked list"
   ]
  },
  {
   "cell_type": "code",
   "execution_count": 8,
   "metadata": {
    "colab": {
     "base_uri": "https://localhost:8080/"
    },
    "id": "Rh1tuC0JQ4ig",
    "outputId": "08656e98-a316-4533-ba78-552a6bce3b9e"
   },
   "outputs": [
    {
     "name": "stdout",
     "output_type": "stream",
     "text": [
      "Nodes of singly linked list: \n",
      "13\n",
      "19\n",
      "21\n",
      "6\n"
     ]
    }
   ],
   "source": [
    "class Node:\n",
    "    def __init__(self,data):\n",
    "        self.data = data;\n",
    "        self.next = None;\n",
    "\n",
    "class SinglyLinkedList:\n",
    "    def __init__(self):\n",
    "        self.head = None;\n",
    "        self.tail = None;\n",
    "\n",
    "    def addNode(self, data):\n",
    "        newNode = Node(data);\n",
    "\n",
    "        if(self.head == None):\n",
    "            self.head = newNode;\n",
    "            self.tail = newNode;\n",
    "        else:\n",
    "            self.tail.next = newNode;\n",
    "            self.tail = newNode;\n",
    "\n",
    "    def display(self):\n",
    "        current = self.head;\n",
    "\n",
    "        if(self.head == None):\n",
    "            print(\"List is empty\");\n",
    "            return;\n",
    "        print(\"Nodes of singly linked list: \");\n",
    "        while(current != None):\n",
    "            print(current.data),\n",
    "            current = current.next;\n",
    "\n",
    "sList = SinglyLinkedList();\n",
    "\n",
    "sList.addNode(13);\n",
    "sList.addNode(19);\n",
    "sList.addNode(21);\n",
    "sList.addNode(6);\n",
    "\n",
    "sList.display();"
   ]
  },
  {
   "cell_type": "markdown",
   "metadata": {},
   "source": [
    "# Problem C"
   ]
  },
  {
   "cell_type": "markdown",
   "metadata": {},
   "source": [
    "### Sort linked list with constant space."
   ]
  },
  {
   "cell_type": "code",
   "execution_count": 9,
   "metadata": {
    "colab": {
     "base_uri": "https://localhost:8080/"
    },
    "id": "bCK_NVCYR0H2",
    "outputId": "009ce6cd-e647-4a63-dc75-edca3d315324"
   },
   "outputs": [
    {
     "name": "stdout",
     "output_type": "stream",
     "text": [
      "\n",
      "Sorted Linked List is: \n",
      "\n",
      "8 9 11 21 29 31 "
     ]
    }
   ],
   "source": [
    "class Node:\n",
    "\n",
    "\tdef __init__(self,key):\n",
    "\t\tself.data=key\n",
    "\t\tself.next=None\n",
    "\n",
    "def mergeSort(head):\n",
    "\tif (head.next == None):\n",
    "\t\treturn head\n",
    "\n",
    "\tmid = findMid(head)\n",
    "\thead2 = mid.next\n",
    "\tmid.next = None\n",
    "\tnewHead1 = mergeSort(head)\n",
    "\tnewHead2 = mergeSort(head2)\n",
    "\tfinalHead = merge(newHead1, newHead2)\n",
    "\treturn finalHead\n",
    "\n",
    "def merge(head1,head2):\n",
    "\tmerged = Node(-1)\n",
    "\n",
    "\ttemp = merged\n",
    "\twhile (head1 != None and head2 != None):\n",
    "\t\tif (head1.data < head2.data):\n",
    "\t\t\ttemp.next = head1\n",
    "\t\t\thead1 = head1.next\n",
    "\t\telse:\n",
    "\t\t\ttemp.next = head2\n",
    "\t\t\thead2 = head2.next\n",
    "\t\ttemp = temp.next\n",
    "\n",
    "\twhile (head1 != None):\n",
    "\t\ttemp.next = head1\n",
    "\t\thead1 = head1.next\n",
    "\t\ttemp = temp.next\n",
    "\n",
    "\twhile (head2 != None):\n",
    "\t\ttemp.next = head2\n",
    "\t\thead2 = head2.next\n",
    "\t\ttemp = temp.next\n",
    "\n",
    "\treturn merged.next\n",
    "\n",
    "def findMid(head):\n",
    "\tslow = head\n",
    "\tfast = head.next\n",
    "\twhile (fast != None and fast.next != None):\n",
    "\t\tslow = slow.next\n",
    "\t\tfast = fast.next.next\n",
    "\treturn slow\n",
    "\n",
    "def printList(head):\n",
    "\twhile (head != None):\n",
    "\t\tprint(head.data,end=\" \")\n",
    "\t\thead=head.next\n",
    "\n",
    "head = Node(9)\n",
    "temp = head\n",
    "temp.next = Node(11);\n",
    "temp = temp.next;\n",
    "temp.next = Node(8);\n",
    "temp = temp.next;\n",
    "temp.next = Node(21);\n",
    "temp = temp.next;\n",
    "temp.next = Node(31);\n",
    "temp = temp.next;\n",
    "temp.next = Node(29);\n",
    "temp = temp.next;\n",
    "\n",
    "head = mergeSort(head);\n",
    "print(\"\\nSorted Linked List is: \\n\");\n",
    "\n",
    "printList(head);\n"
   ]
  },
  {
   "cell_type": "markdown",
   "metadata": {},
   "source": [
    "# Problem D"
   ]
  },
  {
   "cell_type": "markdown",
   "metadata": {},
   "source": [
    "### Implement binary search tree. Perform insertion and deletion. Print its preorder."
   ]
  },
  {
   "cell_type": "code",
   "execution_count": 11,
   "metadata": {
    "colab": {
     "base_uri": "https://localhost:8080/"
    },
    "id": "x-KAJjM2OHGy",
    "outputId": "f6bede1e-6e2c-4800-e42e-5fcb28b9f991"
   },
   "outputs": [
    {
     "name": "stdout",
     "output_type": "stream",
     "text": [
      "50\n",
      "20\n",
      "10\n",
      "30\n",
      "70\n",
      "60\n",
      "120\n",
      "\n",
      "50\n",
      "20\n",
      "10\n",
      "30\n",
      "120\n",
      "60\n"
     ]
    }
   ],
   "source": [
    "class TreeNode:\n",
    "    def __init__(self, key):\n",
    "        self.key = key\n",
    "        self.l = None\n",
    "        self.r = None\n",
    "\n",
    "def new_key_insert(root, new_key):\n",
    "    if root is None:\n",
    "        root = TreeNode(new_key)\n",
    "        return root\n",
    "    if new_key < root.key:\n",
    "        root.l = new_key_insert(root.l, new_key)\n",
    "    else:\n",
    "        root.r = new_key_insert(root.r, new_key)\n",
    "    return root\n",
    "\n",
    "def display(root):\n",
    "    if root:\n",
    "        print(root.key)\n",
    "        display(root.l)\n",
    "        display(root.r)\n",
    "\n",
    "def Inorder_Successor(node):\n",
    "    current = node\n",
    "    while(current.l is not None):\n",
    "        current = current.l\n",
    "\n",
    "    return current\n",
    "\n",
    "\n",
    "def remove_key(root, key):\n",
    "    if root is None:\n",
    "        return root\n",
    "    if key < root.key:\n",
    "        root.l = remove_key(root.l, key)\n",
    "    elif(key > root.key):\n",
    "        root.r = remove_key(root.r, key)\n",
    "    else:\n",
    "        if root.l is None:\n",
    "            temp = root.r\n",
    "            root = None\n",
    "            return temp\n",
    "\n",
    "        elif root.r is None:\n",
    "            temp = root.l\n",
    "            root = None\n",
    "            return temp\n",
    "        temp = Inorder_Successor(root.r)\n",
    "        root.key = temp.key\n",
    "        root.r = remove_key(root.r, temp.key)\n",
    "\n",
    "    return root\n",
    "\n",
    "\n",
    "r = TreeNode(50)\n",
    "r = new_key_insert(r, 20)\n",
    "r = new_key_insert(r, 70)\n",
    "r = new_key_insert(r, 60)\n",
    "r = new_key_insert(r, 10)\n",
    "r = new_key_insert(r, 30)\n",
    "r = new_key_insert(r, 120)\n",
    "\n",
    "display(r)\n",
    "\n",
    "r=remove_key(r,70)\n",
    "print()\n",
    "display(r)"
   ]
  },
  {
   "cell_type": "markdown",
   "metadata": {},
   "source": [
    "# Problem E"
   ]
  },
  {
   "cell_type": "markdown",
   "metadata": {},
   "source": [
    "### Bhavisha plans to visit Bhakti’s house. It’s known that the distance between their houses is d blocks. You’re provided with an array called steps(user-defined), which represents the choices with which she can take the next step. steps[i] represents the number of blocks she can walk in the forward direction. Your task is to determine the minimum number of steps she needs to take to reach Bhakti’s house. If it’s not possible to reach Bhakti’s house, return -1.\n",
    "\n",
    "### Example 1. d = 15, steps = [5, 4, 2], ans = 3 (5 + 5 + 5)\n",
    "### Example 2. d = 9, steps = [5, 3, 4], ans = 2 (5 + 4)\n",
    "### Example 3. d = 7, steps = [5, 3, 4], ans = 2\n",
    "### Example 4. d = 4, steps = [5, 1, 7], ans = 4 (1 + 1 + 1 + 1)\n",
    "### Example 5. d = 11, steps = [9, 6, 5, 1], ans = 2 (6 + 5)"
   ]
  },
  {
   "cell_type": "code",
   "execution_count": 13,
   "metadata": {
    "colab": {
     "base_uri": "https://localhost:8080/"
    },
    "id": "W5FuI3hZj7M4",
    "outputId": "271c7eca-8792-477e-f186-3331d9948167"
   },
   "outputs": [
    {
     "name": "stdout",
     "output_type": "stream",
     "text": [
      "2\n"
     ]
    }
   ],
   "source": [
    "INT_MAX = 100000000000000;\n",
    "distance = 7\n",
    "choices = array('i',[5,3,4])\n",
    "\n",
    "def minimum_step(rem_dis,ind):\n",
    "  if(rem_dis<0):\n",
    "    return INT_MAX\n",
    "  if(rem_dis==0):\n",
    "    return 0\n",
    "  if(ind>=3):\n",
    "    return INT_MAX\n",
    "  return min(1+minimum_step(rem_dis-choices[ind],ind),minimum_step(rem_dis,ind+1))\n",
    "\n",
    "print(minimum_step(distance,0))"
   ]
  },
  {
   "cell_type": "markdown",
   "metadata": {},
   "source": [
    "# Problem F"
   ]
  },
  {
   "cell_type": "markdown",
   "metadata": {},
   "source": [
    "### Pooja is quite fond of chocolates. One fortunate day, her caring aunty surprised her with a delightful chocolate bouquet. The bouquet is represented by an array called bouquet where the element at index i signifies a chocolate packet containing bouquet[i] chocolate blocks. Now, Pooja faces a challenge: she has to eat all the packets of the bouquet within D days to prevent them from hitting the expiry date. However, there’s a twist - Pooja is managing diabetes and must also keep a close eye on her blood sugar levels.\n",
    "\n",
    "### Being a caring friend of Pooja, your task is to determine the minimum number of chocolate blocks she should consume each day to ensure she finishes them all in D days.\n",
    "\n",
    "### Note i. It’s essential to remember that Pooja cannot split a chocolate packet between two days. In other words, if she opens a packet on the ”dth” day, she must consume the entire packet on that very day.\n",
    "\n",
    "### Note ii. The bouquet must be consumed in the order given."
   ]
  },
  {
   "cell_type": "code",
   "execution_count": 14,
   "metadata": {
    "colab": {
     "base_uri": "https://localhost:8080/"
    },
    "id": "s_vWhVTkoQKw",
    "outputId": "25de9feb-e70c-4fa7-940c-6a896bf1c218"
   },
   "outputs": [
    {
     "name": "stdout",
     "output_type": "stream",
     "text": [
      "14\n"
     ]
    }
   ],
   "source": [
    "days = 4\n",
    "choclates=array('i',[10, 8, 9, 5, 7, 6])\n",
    "\n",
    "def is_possible(level):\n",
    "  count=0\n",
    "  sum=0\n",
    "  i=0\n",
    "  while(i<6):\n",
    "    if(sum+choclates[i]>level):\n",
    "      count=count+1\n",
    "      sum=0\n",
    "    else:\n",
    "      sum=sum+choclates[i]\n",
    "      i=i+1\n",
    "\n",
    "    if(count>days):\n",
    "      return 0\n",
    "\n",
    "  if(sum>0):\n",
    "    count=count+1\n",
    "\n",
    "  if(count<=days):\n",
    "    return 1\n",
    "  else:\n",
    "    return 0\n",
    "\n",
    "\n",
    "ans=-1\n",
    "low=0\n",
    "high=0\n",
    "for x in choclates:\n",
    "  high=high+x\n",
    "\n",
    "while(low<=high):\n",
    "  mid=(high+low)//2\n",
    "  if(is_possible(mid)==1):\n",
    "    ans=mid;\n",
    "    high=mid-1\n",
    "  else:\n",
    "    low=mid+1\n",
    "\n",
    "print(ans)"
   ]
  },
  {
   "cell_type": "code",
   "execution_count": null,
   "metadata": {
    "id": "F8xA-pN5Avn1"
   },
   "outputs": [],
   "source": []
  }
 ],
 "metadata": {
  "colab": {
   "provenance": []
  },
  "kernelspec": {
   "display_name": "Python 3",
   "language": "python",
   "name": "python3"
  },
  "language_info": {
   "codemirror_mode": {
    "name": "ipython",
    "version": 3
   },
   "file_extension": ".py",
   "mimetype": "text/x-python",
   "name": "python",
   "nbconvert_exporter": "python",
   "pygments_lexer": "ipython3",
   "version": "3.8.8"
  }
 },
 "nbformat": 4,
 "nbformat_minor": 1
}
